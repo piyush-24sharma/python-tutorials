{
 "cells": [
  {
   "cell_type": "markdown",
   "id": "e7d5d9ac-9035-4e7d-9672-a033c485c916",
   "metadata": {},
   "source": [
    "# SETS\n",
    "### A Set is an unordered collection data type that is iterable, mutable, and has no duplicate elements. Python's set class represents the mathematical notion of a set.This is based on a data structure known as a hash table"
   ]
  },
  {
   "cell_type": "code",
   "execution_count": 6,
   "id": "4a91a353-e3de-4463-899f-5ffdb74c6df4",
   "metadata": {},
   "outputs": [
    {
     "data": {
      "text/plain": [
       "dict"
      ]
     },
     "execution_count": 6,
     "metadata": {},
     "output_type": "execute_result"
    }
   ],
   "source": [
    "type({})"
   ]
  },
  {
   "cell_type": "code",
   "execution_count": 8,
   "id": "55389583-28e2-4425-9c66-7469dde27c49",
   "metadata": {},
   "outputs": [
    {
     "data": {
      "text/plain": [
       "set"
      ]
     },
     "execution_count": 8,
     "metadata": {},
     "output_type": "execute_result"
    }
   ],
   "source": [
    "type({1})"
   ]
  },
  {
   "cell_type": "code",
   "execution_count": 18,
   "id": "b12f81ff-2cbd-46b4-b690-cca97306f47a",
   "metadata": {},
   "outputs": [
    {
     "name": "stdout",
     "output_type": "stream",
     "text": [
      "{1, 2, 3, 4, 5}\n"
     ]
    }
   ],
   "source": [
    "type({1,2,3,4,'piyush'})\n",
    "print(set([1,2,3,4,5,5]))"
   ]
  },
  {
   "cell_type": "code",
   "execution_count": 22,
   "id": "d036e671-f74b-488c-a4e4-2cca33040b1e",
   "metadata": {},
   "outputs": [],
   "source": [
    "set_var={1,2,3,4,5,4}"
   ]
  },
  {
   "cell_type": "markdown",
   "id": "02d9b0f0-5ecb-4a78-8670-23666a6bcad6",
   "metadata": {},
   "source": [
    "set_var"
   ]
  },
  {
   "cell_type": "code",
   "execution_count": 36,
   "id": "9765186f-780d-416c-b845-42df1ff3ea9d",
   "metadata": {},
   "outputs": [],
   "source": [
    "set1  = {'piyush', 'ironman','Caption steev'}"
   ]
  },
  {
   "cell_type": "code",
   "execution_count": 26,
   "id": "9494bf47-75a4-45c1-b232-bfa618aea871",
   "metadata": {},
   "outputs": [
    {
     "ename": "TypeError",
     "evalue": "'set' object is not subscriptable",
     "output_type": "error",
     "traceback": [
      "\u001b[0;31m---------------------------------------------------------------------------\u001b[0m",
      "\u001b[0;31mTypeError\u001b[0m                                 Traceback (most recent call last)",
      "Cell \u001b[0;32mIn[26], line 1\u001b[0m\n\u001b[0;32m----> 1\u001b[0m set_var[\u001b[38;5;241m2\u001b[39m]\n",
      "\u001b[0;31mTypeError\u001b[0m: 'set' object is not subscriptable"
     ]
    }
   ],
   "source": [
    "set_var[2]"
   ]
  },
  {
   "cell_type": "code",
   "execution_count": 34,
   "id": "a80c9c2f-2b3f-4147-90b1-1b21bc07e54f",
   "metadata": {},
   "outputs": [
    {
     "name": "stdout",
     "output_type": "stream",
     "text": [
      "piyush\n",
      "ironman\n",
      "Caption steev\n"
     ]
    }
   ],
   "source": [
    "for i in set:\n",
    "    print(i)"
   ]
  },
  {
   "cell_type": "code",
   "execution_count": 28,
   "id": "d8f22a18-204f-45c2-bf22-c872565d9b17",
   "metadata": {},
   "outputs": [
    {
     "data": {
      "text/plain": [
       "2"
      ]
     },
     "execution_count": 28,
     "metadata": {},
     "output_type": "execute_result"
    }
   ],
   "source": [
    "lst = [1,2,3,4,5]\n",
    "lst[1]"
   ]
  },
  {
   "cell_type": "code",
   "execution_count": 42,
   "id": "64aa0fb3-6968-4863-bc8f-716b7cfbce46",
   "metadata": {},
   "outputs": [
    {
     "data": {
      "text/plain": [
       "{'Caption steev', 'ironman', 'kannu', 'piyush'}"
      ]
     },
     "execution_count": 42,
     "metadata": {},
     "output_type": "execute_result"
    }
   ],
   "source": [
    "set1.add('kannu')\n",
    "set1"
   ]
  },
  {
   "cell_type": "markdown",
   "id": "19613e54-2799-4c91-88de-4b4872d04213",
   "metadata": {},
   "source": [
    "## Set sorts the items automatically"
   ]
  },
  {
   "cell_type": "code",
   "execution_count": 59,
   "id": "6d151672-1c06-4a4a-a339-4733c89af7f1",
   "metadata": {},
   "outputs": [
    {
     "name": "stdout",
     "output_type": "stream",
     "text": [
      "{1, 2, 3, 4, 5, 7, 8}\n"
     ]
    }
   ],
   "source": [
    "set_2 = {1,2,4,7,5,8,3}\n",
    "print(set_2)\n"
   ]
  },
  {
   "cell_type": "markdown",
   "id": "1b04c1ac-3f32-41e4-aa42-0d48e8aadca9",
   "metadata": {},
   "source": [
    "## Set functions"
   ]
  },
  {
   "cell_type": "code",
   "execution_count": 63,
   "id": "464e35ad-1e1d-460a-a8fc-f4af14e69c93",
   "metadata": {},
   "outputs": [
    {
     "name": "stdout",
     "output_type": "stream",
     "text": [
      "{0, 1, 2, 3, 4, 5, 7, 8}\n"
     ]
    }
   ],
   "source": [
    "set_2.add(0)\n",
    "print(set_2)\n"
   ]
  },
  {
   "cell_type": "code",
   "execution_count": 107,
   "id": "405b48bb-1c91-4850-81ec-23fdd8a4b403",
   "metadata": {},
   "outputs": [
    {
     "data": {
      "text/plain": [
       "set"
      ]
     },
     "execution_count": 107,
     "metadata": {},
     "output_type": "execute_result"
    }
   ],
   "source": [
    "set_1 = {\"Piyush\", \"Vikash\", \"Pawan\", \"Vivek\"}\n",
    "set_2 = {\"Piyush\", \"Vikash\", \"Pawan\", \"Vivek\", \"Ravi\", \"Niru\"}\n",
    "type(set_1)\n"
   ]
  },
  {
   "cell_type": "code",
   "execution_count": 113,
   "id": "076f76d2-8768-4c43-94c2-7313d052d4a9",
   "metadata": {},
   "outputs": [
    {
     "data": {
      "text/plain": [
       "{'Niru', 'Ravi'}"
      ]
     },
     "execution_count": 113,
     "metadata": {},
     "output_type": "execute_result"
    }
   ],
   "source": [
    "## Difference\n",
    "set_2.difference(set_1)"
   ]
  },
  {
   "cell_type": "code",
   "execution_count": 117,
   "id": "baec279f-c5df-4f28-98d0-c6e289f8fb85",
   "metadata": {},
   "outputs": [
    {
     "name": "stdout",
     "output_type": "stream",
     "text": [
      "{'Ravi', 'Niru'}\n"
     ]
    }
   ],
   "source": [
    "## difference update\n",
    "set_2.difference_update(set_1)\n",
    "print(set_2)"
   ]
  },
  {
   "cell_type": "code",
   "execution_count": 87,
   "id": "0b141e88-9b1d-4a38-b483-6987fa0034b0",
   "metadata": {},
   "outputs": [
    {
     "data": {
      "text/plain": [
       "{'Pawan', 'Piyush', 'Vikash', 'Vivek'}"
      ]
     },
     "execution_count": 87,
     "metadata": {},
     "output_type": "execute_result"
    }
   ],
   "source": [
    "set_2.intersection(set_1)"
   ]
  },
  {
   "cell_type": "code",
   "execution_count": 89,
   "id": "ea293737-0325-4d15-848b-7912d2e44c1a",
   "metadata": {},
   "outputs": [],
   "source": [
    "set_2.intersection_update(set_1)"
   ]
  },
  {
   "cell_type": "code",
   "execution_count": 95,
   "id": "4f4a65ba-ef94-45f5-9d97-682563e3439f",
   "metadata": {},
   "outputs": [
    {
     "data": {
      "text/plain": [
       "{'Pawan', 'Piyush', 'Vikash', 'Vivek'}"
      ]
     },
     "execution_count": 95,
     "metadata": {},
     "output_type": "execute_result"
    }
   ],
   "source": [
    "set_2"
   ]
  },
  {
   "cell_type": "code",
   "execution_count": 119,
   "id": "c57b1b4d-a063-40f1-bf59-3be0766827e2",
   "metadata": {},
   "outputs": [],
   "source": [
    "set1 = {\"Piyush\", \"Vikash\", \"Pawan\", \"Vivek\"}\n",
    "set2 = {\"Piyush\", \"Vikash\", \"Pawan\", \"Vivek\", \"Ravi\", \"Niru\"} \n"
   ]
  },
  {
   "cell_type": "code",
   "execution_count": 129,
   "id": "8af456f8-1347-4c8a-a457-33a0bf04096d",
   "metadata": {},
   "outputs": [
    {
     "data": {
      "text/plain": [
       "False"
      ]
     },
     "execution_count": 129,
     "metadata": {},
     "output_type": "execute_result"
    }
   ],
   "source": [
    "set1.issuperset(set2)\n"
   ]
  },
  {
   "cell_type": "code",
   "execution_count": 131,
   "id": "3a657dd7-76ea-4982-af63-37a3edd50f55",
   "metadata": {},
   "outputs": [
    {
     "data": {
      "text/plain": [
       "True"
      ]
     },
     "execution_count": 131,
     "metadata": {},
     "output_type": "execute_result"
    }
   ],
   "source": [
    "set2.issuperset(set1)\n"
   ]
  },
  {
   "cell_type": "code",
   "execution_count": 133,
   "id": "faa9f09c-2a4b-4864-a973-b0cfb66ab3a7",
   "metadata": {},
   "outputs": [
    {
     "data": {
      "text/plain": [
       "False"
      ]
     },
     "execution_count": 133,
     "metadata": {},
     "output_type": "execute_result"
    }
   ],
   "source": [
    "set2.issubset(set1)"
   ]
  },
  {
   "cell_type": "code",
   "execution_count": 135,
   "id": "0ef68381-8bac-4a5f-b1af-e2dd9046419a",
   "metadata": {},
   "outputs": [
    {
     "data": {
      "text/plain": [
       "True"
      ]
     },
     "execution_count": 135,
     "metadata": {},
     "output_type": "execute_result"
    }
   ],
   "source": [
    "set1.issubset(set2)"
   ]
  },
  {
   "cell_type": "code",
   "execution_count": 139,
   "id": "58f2ccdb-a40d-4cb9-b8eb-53f98b0069ae",
   "metadata": {},
   "outputs": [
    {
     "data": {
      "text/plain": [
       "False"
      ]
     },
     "execution_count": 139,
     "metadata": {},
     "output_type": "execute_result"
    }
   ],
   "source": [
    "set2.isdisjoint(set1)"
   ]
  },
  {
   "cell_type": "code",
   "execution_count": 141,
   "id": "32959b75-8b57-4f6e-bb32-ec75f2f14a8f",
   "metadata": {},
   "outputs": [
    {
     "data": {
      "text/plain": [
       "{'Niru', 'Ravi'}"
      ]
     },
     "execution_count": 141,
     "metadata": {},
     "output_type": "execute_result"
    }
   ],
   "source": [
    "set2.symmetric_difference(set1)"
   ]
  },
  {
   "cell_type": "code",
   "execution_count": 143,
   "id": "3f211cb9-9b73-437d-b6f6-e3eaa81dc244",
   "metadata": {},
   "outputs": [
    {
     "data": {
      "text/plain": [
       "{'Niru', 'Ravi'}"
      ]
     },
     "execution_count": 143,
     "metadata": {},
     "output_type": "execute_result"
    }
   ],
   "source": [
    "set1.symmetric_difference(set2)"
   ]
  },
  {
   "cell_type": "code",
   "execution_count": null,
   "id": "bff41c02-eca8-42a7-90b7-dd6ed7aa6385",
   "metadata": {},
   "outputs": [],
   "source": []
  }
 ],
 "metadata": {
  "kernelspec": {
   "display_name": "Python 3 (ipykernel)",
   "language": "python",
   "name": "python3"
  },
  "language_info": {
   "codemirror_mode": {
    "name": "ipython",
    "version": 3
   },
   "file_extension": ".py",
   "mimetype": "text/x-python",
   "name": "python",
   "nbconvert_exporter": "python",
   "pygments_lexer": "ipython3",
   "version": "3.12.4"
  }
 },
 "nbformat": 4,
 "nbformat_minor": 5
}
