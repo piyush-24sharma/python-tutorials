{
 "cells": [
  {
   "cell_type": "markdown",
   "id": "e7d5d9ac-9035-4e7d-9672-a033c485c916",
   "metadata": {},
   "source": [
    "# SETS\n",
    "### A Set is an unordered collection data type that is iterable, mutable, and has no duplicate elements. Python's set class represents the mathematical notion of a set.This is based on a data structure known as a hash table"
   ]
  },
  {
   "cell_type": "code",
   "execution_count": 6,
   "id": "4a91a353-e3de-4463-899f-5ffdb74c6df4",
   "metadata": {},
   "outputs": [
    {
     "data": {
      "text/plain": [
       "dict"
      ]
     },
     "execution_count": 6,
     "metadata": {},
     "output_type": "execute_result"
    }
   ],
   "source": [
    "type({})"
   ]
  },
  {
   "cell_type": "code",
   "execution_count": 8,
   "id": "55389583-28e2-4425-9c66-7469dde27c49",
   "metadata": {},
   "outputs": [
    {
     "data": {
      "text/plain": [
       "set"
      ]
     },
     "execution_count": 8,
     "metadata": {},
     "output_type": "execute_result"
    }
   ],
   "source": [
    "type({1})"
   ]
  },
  {
   "cell_type": "code",
   "execution_count": 18,
   "id": "b12f81ff-2cbd-46b4-b690-cca97306f47a",
   "metadata": {},
   "outputs": [
    {
     "name": "stdout",
     "output_type": "stream",
     "text": [
      "{1, 2, 3, 4, 5}\n"
     ]
    }
   ],
   "source": [
    "type({1,2,3,4,'piyush'})\n",
    "print(set([1,2,3,4,5,5]))"
   ]
  },
  {
   "cell_type": "code",
   "execution_count": 22,
   "id": "d036e671-f74b-488c-a4e4-2cca33040b1e",
   "metadata": {},
   "outputs": [],
   "source": [
    "set_var={1,2,3,4,5,4}"
   ]
  },
  {
   "cell_type": "markdown",
   "id": "02d9b0f0-5ecb-4a78-8670-23666a6bcad6",
   "metadata": {},
   "source": [
    "set_var"
   ]
  },
  {
   "cell_type": "code",
   "execution_count": 36,
   "id": "9765186f-780d-416c-b845-42df1ff3ea9d",
   "metadata": {},
   "outputs": [],
   "source": [
    "set1  = {'piyush', 'ironman','Caption steev'}"
   ]
  },
  {
   "cell_type": "code",
   "execution_count": 26,
   "id": "9494bf47-75a4-45c1-b232-bfa618aea871",
   "metadata": {},
   "outputs": [
    {
     "ename": "TypeError",
     "evalue": "'set' object is not subscriptable",
     "output_type": "error",
     "traceback": [
      "\u001b[0;31m---------------------------------------------------------------------------\u001b[0m",
      "\u001b[0;31mTypeError\u001b[0m                                 Traceback (most recent call last)",
      "Cell \u001b[0;32mIn[26], line 1\u001b[0m\n\u001b[0;32m----> 1\u001b[0m set_var[\u001b[38;5;241m2\u001b[39m]\n",
      "\u001b[0;31mTypeError\u001b[0m: 'set' object is not subscriptable"
     ]
    }
   ],
   "source": [
    "set_var[2]"
   ]
  },
  {
   "cell_type": "code",
   "execution_count": 34,
   "id": "a80c9c2f-2b3f-4147-90b1-1b21bc07e54f",
   "metadata": {},
   "outputs": [
    {
     "name": "stdout",
     "output_type": "stream",
     "text": [
      "piyush\n",
      "ironman\n",
      "Caption steev\n"
     ]
    }
   ],
   "source": [
    "for i in set:\n",
    "    print(i)"
   ]
  },
  {
   "cell_type": "code",
   "execution_count": 28,
   "id": "d8f22a18-204f-45c2-bf22-c872565d9b17",
   "metadata": {},
   "outputs": [
    {
     "data": {
      "text/plain": [
       "2"
      ]
     },
     "execution_count": 28,
     "metadata": {},
     "output_type": "execute_result"
    }
   ],
   "source": [
    "lst = [1,2,3,4,5]\n",
    "lst[1]"
   ]
  },
  {
   "cell_type": "code",
   "execution_count": 42,
   "id": "64aa0fb3-6968-4863-bc8f-716b7cfbce46",
   "metadata": {},
   "outputs": [
    {
     "data": {
      "text/plain": [
       "{'Caption steev', 'ironman', 'kannu', 'piyush'}"
      ]
     },
     "execution_count": 42,
     "metadata": {},
     "output_type": "execute_result"
    }
   ],
   "source": [
    "set1.add('kannu')\n",
    "set1"
   ]
  },
  {
   "cell_type": "markdown",
   "id": "19613e54-2799-4c91-88de-4b4872d04213",
   "metadata": {},
   "source": [
    "## Set sorts the items automatically"
   ]
  },
  {
   "cell_type": "code",
   "execution_count": 59,
   "id": "6d151672-1c06-4a4a-a339-4733c89af7f1",
   "metadata": {},
   "outputs": [
    {
     "name": "stdout",
     "output_type": "stream",
     "text": [
      "{1, 2, 3, 4, 5, 7, 8}\n"
     ]
    }
   ],
   "source": [
    "set_2 = {1,2,4,7,5,8,3}\n",
    "print(set_2)\n"
   ]
  },
  {
   "cell_type": "markdown",
   "id": "1b04c1ac-3f32-41e4-aa42-0d48e8aadca9",
   "metadata": {},
   "source": [
    "## Set functions"
   ]
  },
  {
   "cell_type": "code",
   "execution_count": 63,
   "id": "464e35ad-1e1d-460a-a8fc-f4af14e69c93",
   "metadata": {},
   "outputs": [
    {
     "name": "stdout",
     "output_type": "stream",
     "text": [
      "{0, 1, 2, 3, 4, 5, 7, 8}\n"
     ]
    }
   ],
   "source": [
    "set_2.add(0)\n",
    "print(set_2)\n"
   ]
  },
  {
   "cell_type": "code",
   "execution_count": 107,
   "id": "405b48bb-1c91-4850-81ec-23fdd8a4b403",
   "metadata": {},
   "outputs": [
    {
     "data": {
      "text/plain": [
       "set"
      ]
     },
     "execution_count": 107,
     "metadata": {},
     "output_type": "execute_result"
    }
   ],
   "source": [
    "set_1 = {\"Piyush\", \"Vikash\", \"Pawan\", \"Vivek\"}\n",
    "set_2 = {\"Piyush\", \"Vikash\", \"Pawan\", \"Vivek\", \"Ravi\", \"Niru\"}\n",
    "type(set_1)\n"
   ]
  },
  {
   "cell_type": "code",
   "execution_count": 113,
   "id": "076f76d2-8768-4c43-94c2-7313d052d4a9",
   "metadata": {},
   "outputs": [
    {
     "data": {
      "text/plain": [
       "{'Niru', 'Ravi'}"
      ]
     },
     "execution_count": 113,
     "metadata": {},
     "output_type": "execute_result"
    }
   ],
   "source": [
    "## Difference\n",
    "set_2.difference(set_1)"
   ]
  },
  {
   "cell_type": "code",
   "execution_count": 117,
   "id": "baec279f-c5df-4f28-98d0-c6e289f8fb85",
   "metadata": {},
   "outputs": [
    {
     "name": "stdout",
     "output_type": "stream",
     "text": [
      "{'Ravi', 'Niru'}\n"
     ]
    }
   ],
   "source": [
    "## difference update\n",
    "set_2.difference_update(set_1)\n",
    "print(set_2)"
   ]
  },
  {
   "cell_type": "code",
   "execution_count": 87,
   "id": "0b141e88-9b1d-4a38-b483-6987fa0034b0",
   "metadata": {},
   "outputs": [
    {
     "data": {
      "text/plain": [
       "{'Pawan', 'Piyush', 'Vikash', 'Vivek'}"
      ]
     },
     "execution_count": 87,
     "metadata": {},
     "output_type": "execute_result"
    }
   ],
   "source": [
    "set_2.intersection(set_1)"
   ]
  },
  {
   "cell_type": "code",
   "execution_count": 89,
   "id": "ea293737-0325-4d15-848b-7912d2e44c1a",
   "metadata": {},
   "outputs": [],
   "source": [
    "set_2.intersection_update(set_1)"
   ]
  },
  {
   "cell_type": "code",
   "execution_count": 95,
   "id": "4f4a65ba-ef94-45f5-9d97-682563e3439f",
   "metadata": {},
   "outputs": [
    {
     "data": {
      "text/plain": [
       "{'Pawan', 'Piyush', 'Vikash', 'Vivek'}"
      ]
     },
     "execution_count": 95,
     "metadata": {},
     "output_type": "execute_result"
    }
   ],
   "source": [
    "set_2"
   ]
  },
  {
   "cell_type": "code",
   "execution_count": 119,
   "id": "c57b1b4d-a063-40f1-bf59-3be0766827e2",
   "metadata": {},
   "outputs": [],
   "source": [
    "set1 = {\"Piyush\", \"Vikash\", \"Pawan\", \"Vivek\"}\n",
    "set2 = {\"Piyush\", \"Vikash\", \"Pawan\", \"Vivek\", \"Ravi\", \"Niru\"} \n"
   ]
  },
  {
   "cell_type": "code",
   "execution_count": 129,
   "id": "8af456f8-1347-4c8a-a457-33a0bf04096d",
   "metadata": {},
   "outputs": [
    {
     "data": {
      "text/plain": [
       "False"
      ]
     },
     "execution_count": 129,
     "metadata": {},
     "output_type": "execute_result"
    }
   ],
   "source": [
    "set1.issuperset(set2)\n"
   ]
  },
  {
   "cell_type": "code",
   "execution_count": 131,
   "id": "3a657dd7-76ea-4982-af63-37a3edd50f55",
   "metadata": {},
   "outputs": [
    {
     "data": {
      "text/plain": [
       "True"
      ]
     },
     "execution_count": 131,
     "metadata": {},
     "output_type": "execute_result"
    }
   ],
   "source": [
    "set2.issuperset(set1)\n"
   ]
  },
  {
   "cell_type": "code",
   "execution_count": 133,
   "id": "faa9f09c-2a4b-4864-a973-b0cfb66ab3a7",
   "metadata": {},
   "outputs": [
    {
     "data": {
      "text/plain": [
       "False"
      ]
     },
     "execution_count": 133,
     "metadata": {},
     "output_type": "execute_result"
    }
   ],
   "source": [
    "set2.issubset(set1)"
   ]
  },
  {
   "cell_type": "code",
   "execution_count": 135,
   "id": "0ef68381-8bac-4a5f-b1af-e2dd9046419a",
   "metadata": {},
   "outputs": [
    {
     "data": {
      "text/plain": [
       "True"
      ]
     },
     "execution_count": 135,
     "metadata": {},
     "output_type": "execute_result"
    }
   ],
   "source": [
    "set1.issubset(set2)"
   ]
  },
  {
   "cell_type": "code",
   "execution_count": 139,
   "id": "58f2ccdb-a40d-4cb9-b8eb-53f98b0069ae",
   "metadata": {},
   "outputs": [
    {
     "data": {
      "text/plain": [
       "False"
      ]
     },
     "execution_count": 139,
     "metadata": {},
     "output_type": "execute_result"
    }
   ],
   "source": [
    "set2.isdisjoint(set1)"
   ]
  },
  {
   "cell_type": "code",
   "execution_count": 141,
   "id": "32959b75-8b57-4f6e-bb32-ec75f2f14a8f",
   "metadata": {},
   "outputs": [
    {
     "data": {
      "text/plain": [
       "{'Niru', 'Ravi'}"
      ]
     },
     "execution_count": 141,
     "metadata": {},
     "output_type": "execute_result"
    }
   ],
   "source": [
    "set2.symmetric_difference(set1)"
   ]
  },
  {
   "cell_type": "code",
   "execution_count": 143,
   "id": "3f211cb9-9b73-437d-b6f6-e3eaa81dc244",
   "metadata": {},
   "outputs": [
    {
     "data": {
      "text/plain": [
       "{'Niru', 'Ravi'}"
      ]
     },
     "execution_count": 143,
     "metadata": {},
     "output_type": "execute_result"
    }
   ],
   "source": [
    "set1.symmetric_difference(set2)"
   ]
  },
  {
   "cell_type": "markdown",
   "id": "2e728dc0-fa02-49a9-8cf0-ec2deee89397",
   "metadata": {},
   "source": [
    "\n",
    "# Dictionaries\n",
    "\n",
    "## A dictionary is a collection which is unordered, changeable and indexed. In Python dictionaries are written with curly brackets, and they have keys and values.\n"
   ]
  },
  {
   "cell_type": "code",
   "execution_count": 3,
   "id": "018916cf-1247-4114-8176-653a143a78cb",
   "metadata": {},
   "outputs": [
    {
     "data": {
      "text/plain": [
       "dict"
      ]
     },
     "execution_count": 3,
     "metadata": {},
     "output_type": "execute_result"
    }
   ],
   "source": [
    "type({})"
   ]
  },
  {
   "cell_type": "code",
   "execution_count": 5,
   "id": "b4fcc21f-2655-4c5d-b7f0-31fb4b24c517",
   "metadata": {},
   "outputs": [
    {
     "data": {
      "text/plain": [
       "set"
      ]
     },
     "execution_count": 5,
     "metadata": {},
     "output_type": "execute_result"
    }
   ],
   "source": [
    "type({1})"
   ]
  },
  {
   "cell_type": "code",
   "execution_count": 9,
   "id": "2d364dda-482e-4219-9dd1-626b2593d93e",
   "metadata": {},
   "outputs": [
    {
     "data": {
      "text/plain": [
       "dict"
      ]
     },
     "execution_count": 9,
     "metadata": {},
     "output_type": "execute_result"
    }
   ],
   "source": [
    "type({1:\"piyush\"})"
   ]
  },
  {
   "cell_type": "code",
   "execution_count": 11,
   "id": "e604b3da-38df-400d-a4b1-0b79aaea5328",
   "metadata": {},
   "outputs": [
    {
     "data": {
      "text/plain": [
       "dict"
      ]
     },
     "execution_count": 11,
     "metadata": {},
     "output_type": "execute_result"
    }
   ],
   "source": [
    "type(dict())"
   ]
  },
  {
   "cell_type": "code",
   "execution_count": 15,
   "id": "aee48bd3-5a0f-4406-91a0-90e9be716a8b",
   "metadata": {},
   "outputs": [
    {
     "name": "stdout",
     "output_type": "stream",
     "text": [
      "{'name': 'piyush', 'age': 35, 'last_name': 'Sharma'}\n"
     ]
    }
   ],
   "source": [
    "print(dict(name=\"piyush\", age=35, last_name = \"Sharma\"))"
   ]
  },
  {
   "cell_type": "code",
   "execution_count": 17,
   "id": "bf1694ce-e6a9-49d7-b7b7-a28ba7b7685b",
   "metadata": {},
   "outputs": [
    {
     "data": {
      "text/plain": [
       "dict"
      ]
     },
     "execution_count": 17,
     "metadata": {},
     "output_type": "execute_result"
    }
   ],
   "source": [
    "my_dict={\"Car1\": \"Audi\", \"Car2\":\"BMW\",\"Car3\":\"Mercidies Benz\"}\n",
    "type(my_dict)"
   ]
  },
  {
   "cell_type": "code",
   "execution_count": 19,
   "id": "eb086c6c-5358-4320-85c5-cbbbb7a91a95",
   "metadata": {},
   "outputs": [
    {
     "data": {
      "text/plain": [
       "'Audi'"
      ]
     },
     "execution_count": 19,
     "metadata": {},
     "output_type": "execute_result"
    }
   ],
   "source": [
    "my_dict['Car1']"
   ]
  },
  {
   "cell_type": "code",
   "execution_count": 23,
   "id": "ebc3994a-06c6-44d2-b3fa-6443a0073846",
   "metadata": {},
   "outputs": [
    {
     "data": {
      "text/plain": [
       "dict_items([('Car1', 'Audi'), ('Car2', 'BMW'), ('Car3', 'Mercidies Benz')])"
      ]
     },
     "execution_count": 23,
     "metadata": {},
     "output_type": "execute_result"
    }
   ],
   "source": [
    "my_dict.items()"
   ]
  },
  {
   "cell_type": "code",
   "execution_count": 25,
   "id": "a4cdc3d6-ecfb-479e-87c3-0db9f930aa6a",
   "metadata": {},
   "outputs": [
    {
     "data": {
      "text/plain": [
       "dict_keys(['Car1', 'Car2', 'Car3'])"
      ]
     },
     "execution_count": 25,
     "metadata": {},
     "output_type": "execute_result"
    }
   ],
   "source": [
    "my_dict.keys()"
   ]
  },
  {
   "cell_type": "code",
   "execution_count": 27,
   "id": "4b7b7c3a-60ec-4f6c-99bb-036995d744a0",
   "metadata": {},
   "outputs": [
    {
     "data": {
      "text/plain": [
       "dict_values(['Audi', 'BMW', 'Mercidies Benz'])"
      ]
     },
     "execution_count": 27,
     "metadata": {},
     "output_type": "execute_result"
    }
   ],
   "source": [
    "my_dict.values()"
   ]
  },
  {
   "cell_type": "code",
   "execution_count": 29,
   "id": "f8198a03-edba-435c-b0ad-c83556d81a5c",
   "metadata": {},
   "outputs": [
    {
     "data": {
      "text/plain": [
       "'Audi'"
      ]
     },
     "execution_count": 29,
     "metadata": {},
     "output_type": "execute_result"
    }
   ],
   "source": [
    "my_dict.get('Car1')"
   ]
  },
  {
   "cell_type": "markdown",
   "id": "f06da084-a3cf-46e3-825b-db2daa9f1edf",
   "metadata": {},
   "source": [
    "## Loopng dictionalry items"
   ]
  },
  {
   "cell_type": "code",
   "execution_count": 52,
   "id": "769a4e37-0ebf-4a97-a708-f6b182de04cf",
   "metadata": {},
   "outputs": [
    {
     "name": "stdout",
     "output_type": "stream",
     "text": [
      "('Car1', 'Audi')\n",
      "('Car2', 'BMW')\n",
      "('Car3', 'Mercidies Benz')\n"
     ]
    }
   ],
   "source": [
    "## through items\n",
    "\n",
    "for x in my_dict.items():\n",
    "    print(x)\n",
    "    "
   ]
  },
  {
   "cell_type": "code",
   "execution_count": 54,
   "id": "c7633680-e3bf-4c84-a276-27e5c216d557",
   "metadata": {},
   "outputs": [
    {
     "name": "stdout",
     "output_type": "stream",
     "text": [
      "Audi\n",
      "BMW\n",
      "Mercidies Benz\n"
     ]
    }
   ],
   "source": [
    "##  through values\n",
    "\n",
    "for x in my_dict.values():\n",
    "    print(x)\n",
    "    \n"
   ]
  },
  {
   "cell_type": "code",
   "execution_count": 56,
   "id": "7a833ebf-012f-4038-9b8c-0fdccd06fdd9",
   "metadata": {},
   "outputs": [
    {
     "name": "stdout",
     "output_type": "stream",
     "text": [
      "Car1\n",
      "Car2\n",
      "Car3\n"
     ]
    }
   ],
   "source": [
    "## through keys\n",
    "\n",
    "for x in my_dict.keys():\n",
    "    print(x)\n",
    "    \n"
   ]
  },
  {
   "cell_type": "code",
   "execution_count": 64,
   "id": "cb1664cf-7e37-4708-a9ab-8d9b3387359b",
   "metadata": {},
   "outputs": [],
   "source": [
    "my_dict['Car4'] = \"Scorpoi\""
   ]
  },
  {
   "cell_type": "code",
   "execution_count": 66,
   "id": "4f6daa4a-19ed-4f18-b4d9-be798f0e2250",
   "metadata": {},
   "outputs": [
    {
     "data": {
      "text/plain": [
       "{'Car1': 'Audi', 'Car2': 'BMW', 'Car3': 'Mercidies Benz', 'Car4': 'Scorpoi'}"
      ]
     },
     "execution_count": 66,
     "metadata": {},
     "output_type": "execute_result"
    }
   ],
   "source": [
    "my_dict"
   ]
  },
  {
   "cell_type": "code",
   "execution_count": 68,
   "id": "40a89b86-6c89-4efb-9d9a-85692742544e",
   "metadata": {},
   "outputs": [],
   "source": [
    "my_dict['Car4'] = \"Audi 2.0\""
   ]
  },
  {
   "cell_type": "code",
   "execution_count": 70,
   "id": "c087e0ce-1807-46de-a66d-b34dae09d467",
   "metadata": {},
   "outputs": [
    {
     "data": {
      "text/plain": [
       "{'Car1': 'Audi', 'Car2': 'BMW', 'Car3': 'Mercidies Benz', 'Car4': 'Audi 2.0'}"
      ]
     },
     "execution_count": 70,
     "metadata": {},
     "output_type": "execute_result"
    }
   ],
   "source": [
    "my_dict"
   ]
  },
  {
   "cell_type": "markdown",
   "id": "213c28a3-b478-484e-8f33-4bd7606ac9cb",
   "metadata": {},
   "source": [
    "# Nested Dictionary"
   ]
  },
  {
   "cell_type": "code",
   "execution_count": 73,
   "id": "4de5c90d-0caf-4594-aeef-4a5e47db2963",
   "metadata": {},
   "outputs": [
    {
     "name": "stdout",
     "output_type": "stream",
     "text": [
      "{'car1': {'Mercedes': 1960}, 'car2': {'Audi': 1970}, 'car3': {'Ambassador': 1980}}\n"
     ]
    }
   ],
   "source": [
    "car1_model={'Mercedes':1960}\n",
    "car2_model={'Audi':1970}\n",
    "car3_model={'Ambassador':1980}\n",
    "\n",
    "car_type={'car1':car1_model,'car2':car2_model,'car3':car3_model}\n",
    "\n",
    "print(car_type)"
   ]
  },
  {
   "cell_type": "markdown",
   "id": "823e48c9-89f0-4d1e-8c94-e9441256d105",
   "metadata": {},
   "source": [
    "# Tuples"
   ]
  },
  {
   "cell_type": "code",
   "execution_count": 78,
   "id": "cd3b075f-69cb-4874-889f-8e253791e4ed",
   "metadata": {},
   "outputs": [
    {
     "data": {
      "text/plain": [
       "tuple"
      ]
     },
     "execution_count": 78,
     "metadata": {},
     "output_type": "execute_result"
    }
   ],
   "source": [
    "my_tuple = tuple()\n",
    "type(my_tuple)"
   ]
  },
  {
   "cell_type": "code",
   "execution_count": 82,
   "id": "29be695b-6dc5-429a-a94e-0654b0164c52",
   "metadata": {},
   "outputs": [
    {
     "data": {
      "text/plain": [
       "tuple"
      ]
     },
     "execution_count": 82,
     "metadata": {},
     "output_type": "execute_result"
    }
   ],
   "source": [
    "myTuple = ()\n",
    "type(myTuple)"
   ]
  },
  {
   "cell_type": "code",
   "execution_count": 106,
   "id": "67152fe5-5c36-45cc-be03-298bb272ccd6",
   "metadata": {},
   "outputs": [
    {
     "name": "stdout",
     "output_type": "stream",
     "text": [
      "('Duggu', 'Nunnu', 'banku', 'Nitya', 'Duggu', 'Duggu')\n"
     ]
    }
   ],
   "source": [
    "myTuple = ('Duggu','Nunnu', 'banku','Nitya','Duggu','Duggu')\n",
    "print(myTuple)"
   ]
  },
  {
   "cell_type": "code",
   "execution_count": 112,
   "id": "b3f4a1f9-6bc9-416e-a7a6-ce68e2cdf8b3",
   "metadata": {},
   "outputs": [
    {
     "data": {
      "text/plain": [
       "1"
      ]
     },
     "execution_count": 112,
     "metadata": {},
     "output_type": "execute_result"
    }
   ],
   "source": [
    "myTuple.count('Nitya')"
   ]
  },
  {
   "cell_type": "code",
   "execution_count": 110,
   "id": "b7de62c5-d3e8-448d-8031-f9fc53884082",
   "metadata": {},
   "outputs": [
    {
     "data": {
      "text/plain": [
       "3"
      ]
     },
     "execution_count": 110,
     "metadata": {},
     "output_type": "execute_result"
    }
   ],
   "source": [
    "myTuple.index('Nitya')"
   ]
  },
  {
   "cell_type": "code",
   "execution_count": 114,
   "id": "19a53861-93cb-40b0-aafd-ca4acf5e80ae",
   "metadata": {},
   "outputs": [
    {
     "data": {
      "text/plain": [
       "('Duggu', 'Nunnu', 'banku', 'Nitya', 'Duggu', 'Duggu')"
      ]
     },
     "execution_count": 114,
     "metadata": {},
     "output_type": "execute_result"
    }
   ],
   "source": [
    "myTuple"
   ]
  },
  {
   "cell_type": "code",
   "execution_count": 116,
   "id": "849efb75-5636-44b1-91a2-16e84e126fb6",
   "metadata": {},
   "outputs": [
    {
     "data": {
      "text/plain": [
       "['Duggu', 'Nunnu', 'banku', 'Nitya', 'Duggu', 'Duggu']"
      ]
     },
     "execution_count": 116,
     "metadata": {},
     "output_type": "execute_result"
    }
   ],
   "source": [
    "list(myTuple)"
   ]
  },
  {
   "cell_type": "code",
   "execution_count": null,
   "id": "2f3b1373-a25e-4693-8a58-f75984d7b197",
   "metadata": {},
   "outputs": [],
   "source": []
  }
 ],
 "metadata": {
  "kernelspec": {
   "display_name": "Python 3 (ipykernel)",
   "language": "python",
   "name": "python3"
  },
  "language_info": {
   "codemirror_mode": {
    "name": "ipython",
    "version": 3
   },
   "file_extension": ".py",
   "mimetype": "text/x-python",
   "name": "python",
   "nbconvert_exporter": "python",
   "pygments_lexer": "ipython3",
   "version": "3.12.4"
  }
 },
 "nbformat": 4,
 "nbformat_minor": 5
}
