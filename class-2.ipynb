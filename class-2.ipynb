{
 "cells": [
  {
   "cell_type": "markdown",
   "id": "28ce5b6a-c839-4a82-a5df-7142990c4ae9",
   "metadata": {},
   "source": [
    "## Python Basic - tutorial 2"
   ]
  },
  {
   "cell_type": "code",
   "execution_count": 9,
   "id": "2a3a8c39-03ca-49eb-a500-6f1b5414929e",
   "metadata": {},
   "outputs": [
    {
     "name": "stdout",
     "output_type": "stream",
     "text": [
      "Hello World\n",
      "Welcome to my python code!\n"
     ]
    }
   ],
   "source": [
    "print(\"Hello World\")\n",
    "print(\"Welcome to my python code!\")"
   ]
  },
  {
   "cell_type": "code",
   "execution_count": 19,
   "id": "5569315a-6bf6-4bf3-9429-9a1d164811cc",
   "metadata": {},
   "outputs": [
    {
     "name": "stdout",
     "output_type": "stream",
     "text": [
      "Hello !!!\n"
     ]
    }
   ],
   "source": [
    "# This is single comment.\n",
    "'''\n",
    "This is a multiline\n",
    "Comment in python.\n",
    "'''\n",
    "print(\"Hello !!!\")"
   ]
  },
  {
   "cell_type": "code",
   "execution_count": 21,
   "id": "80d6b71c-b372-43cf-900a-9d36e68a39dc",
   "metadata": {},
   "outputs": [
    {
     "data": {
      "text/plain": [
       "int"
      ]
     },
     "execution_count": 21,
     "metadata": {},
     "output_type": "execute_result"
    }
   ],
   "source": [
    "# Variable declaration\n",
    "a=100\n",
    "type(a)"
   ]
  },
  {
   "cell_type": "code",
   "execution_count": 23,
   "id": "911bc3a8-c6ae-46a2-875d-2e17b53376ca",
   "metadata": {},
   "outputs": [
    {
     "data": {
      "text/plain": [
       "100"
      ]
     },
     "execution_count": 23,
     "metadata": {},
     "output_type": "execute_result"
    }
   ],
   "source": [
    "a"
   ]
  },
  {
   "cell_type": "code",
   "execution_count": 25,
   "id": "ed15cc27-85d4-4ca5-b670-e80dff80a0de",
   "metadata": {},
   "outputs": [
    {
     "name": "stdout",
     "output_type": "stream",
     "text": [
      "100\n"
     ]
    }
   ],
   "source": [
    "print(a)\n"
   ]
  },
  {
   "cell_type": "code",
   "execution_count": 33,
   "id": "1e4dfdc5-dc1f-4627-899c-5a3c9671f6d2",
   "metadata": {},
   "outputs": [
    {
     "data": {
      "text/plain": [
       "int"
      ]
     },
     "execution_count": 33,
     "metadata": {},
     "output_type": "execute_result"
    }
   ],
   "source": [
    "b=\"tdfgh\"\n",
    "c=0\n",
    "type(c)"
   ]
  },
  {
   "cell_type": "code",
   "execution_count": 35,
   "id": "ac9272ce-4474-4d7b-a9de-abc5782d4364",
   "metadata": {},
   "outputs": [
    {
     "data": {
      "text/plain": [
       "str"
      ]
     },
     "execution_count": 35,
     "metadata": {},
     "output_type": "execute_result"
    }
   ],
   "source": [
    "type(b)\n"
   ]
  },
  {
   "cell_type": "code",
   "execution_count": 39,
   "id": "98677514-3282-4101-8b22-10a32b3d7619",
   "metadata": {},
   "outputs": [
    {
     "name": "stdout",
     "output_type": "stream",
     "text": [
      "Piyush\n"
     ]
    }
   ],
   "source": [
    "first_name=\"Piyush\"\n",
    "print(first_name)\n"
   ]
  },
  {
   "cell_type": "code",
   "execution_count": 43,
   "id": "bd91d051-e62a-4267-a772-a4adcc3268f8",
   "metadata": {},
   "outputs": [],
   "source": [
    "# Integers\n",
    "a=10"
   ]
  },
  {
   "cell_type": "code",
   "execution_count": 45,
   "id": "d41f5973-0538-417a-8af4-b4ab5d98265d",
   "metadata": {},
   "outputs": [
    {
     "data": {
      "text/plain": [
       "20"
      ]
     },
     "execution_count": 45,
     "metadata": {},
     "output_type": "execute_result"
    }
   ],
   "source": [
    "a+10"
   ]
  },
  {
   "cell_type": "code",
   "execution_count": 47,
   "id": "a5f05e67-5a4a-4ed2-865c-a0abe4d99e63",
   "metadata": {},
   "outputs": [
    {
     "name": "stdout",
     "output_type": "stream",
     "text": [
      "<class 'int'>\n"
     ]
    }
   ],
   "source": [
    "print(type(a))"
   ]
  },
  {
   "cell_type": "code",
   "execution_count": 49,
   "id": "b2cf0a3d-dcae-4659-b87a-b8e6619b4cea",
   "metadata": {},
   "outputs": [
    {
     "data": {
      "text/plain": [
       "8"
      ]
     },
     "execution_count": 49,
     "metadata": {},
     "output_type": "execute_result"
    }
   ],
   "source": [
    "a-2"
   ]
  },
  {
   "cell_type": "code",
   "execution_count": 51,
   "id": "1e3bd83c-abb4-4908-a1b4-6e446262aa54",
   "metadata": {},
   "outputs": [
    {
     "data": {
      "text/plain": [
       "20"
      ]
     },
     "execution_count": 51,
     "metadata": {},
     "output_type": "execute_result"
    }
   ],
   "source": [
    "a*2"
   ]
  },
  {
   "cell_type": "code",
   "execution_count": 53,
   "id": "7964c2a7-1aae-4052-805b-4dcedddb5351",
   "metadata": {},
   "outputs": [],
   "source": [
    "b=10"
   ]
  },
  {
   "cell_type": "code",
   "execution_count": 55,
   "id": "df743e21-5b6a-4184-a467-e293a7b5e473",
   "metadata": {},
   "outputs": [
    {
     "name": "stdout",
     "output_type": "stream",
     "text": [
      "20\n"
     ]
    }
   ],
   "source": [
    "print(a+b)"
   ]
  },
  {
   "cell_type": "code",
   "execution_count": 57,
   "id": "964dd520-2e8e-4e11-acee-aab42e7908f6",
   "metadata": {},
   "outputs": [],
   "source": [
    "# Floating point\n",
    "a=1-.45"
   ]
  },
  {
   "cell_type": "code",
   "execution_count": 59,
   "id": "4d087718-3257-4279-822e-4efe9d146492",
   "metadata": {},
   "outputs": [
    {
     "data": {
      "text/plain": [
       "float"
      ]
     },
     "execution_count": 59,
     "metadata": {},
     "output_type": "execute_result"
    }
   ],
   "source": [
    "type(a)"
   ]
  },
  {
   "cell_type": "code",
   "execution_count": 61,
   "id": "91b913f9-bc6e-4548-b2b9-4e409ca49ad3",
   "metadata": {},
   "outputs": [
    {
     "data": {
      "text/plain": [
       "0"
      ]
     },
     "execution_count": 61,
     "metadata": {},
     "output_type": "execute_result"
    }
   ],
   "source": [
    "int(a)\n"
   ]
  },
  {
   "cell_type": "code",
   "execution_count": 63,
   "id": "4166ce30-9af1-43ad-b0b2-591a660fa1b5",
   "metadata": {},
   "outputs": [],
   "source": [
    "a=100.45"
   ]
  },
  {
   "cell_type": "code",
   "execution_count": 65,
   "id": "c37076b8-8f61-4fe4-8380-4de26de3021f",
   "metadata": {},
   "outputs": [
    {
     "data": {
      "text/plain": [
       "100"
      ]
     },
     "execution_count": 65,
     "metadata": {},
     "output_type": "execute_result"
    }
   ],
   "source": [
    "int(a)"
   ]
  },
  {
   "cell_type": "code",
   "execution_count": 71,
   "id": "37ff54da-4009-49a8-b5fb-2ebb32fce366",
   "metadata": {},
   "outputs": [
    {
     "data": {
      "text/plain": [
       "float"
      ]
     },
     "execution_count": 71,
     "metadata": {},
     "output_type": "execute_result"
    }
   ],
   "source": [
    "# Boolean\n",
    "a1=True\n",
    "b1=False\n",
    "type(a)\n"
   ]
  },
  {
   "cell_type": "code",
   "execution_count": 81,
   "id": "a325de8e-6f78-41d5-b3be-e1bb223034e4",
   "metadata": {},
   "outputs": [
    {
     "data": {
      "text/plain": [
       "True"
      ]
     },
     "execution_count": 81,
     "metadata": {},
     "output_type": "execute_result"
    }
   ],
   "source": [
    "# and\n",
    "a1 & b1\n"
   ]
  },
  {
   "cell_type": "code",
   "execution_count": 83,
   "id": "203a95a3-01fe-49a6-80fa-2f9f75642b8e",
   "metadata": {},
   "outputs": [
    {
     "data": {
      "text/plain": [
       "False"
      ]
     },
     "execution_count": 83,
     "metadata": {},
     "output_type": "execute_result"
    }
   ],
   "source": [
    "# and\n",
    "a1 and b1"
   ]
  },
  {
   "cell_type": "code",
   "execution_count": 85,
   "id": "25a6f98a-9915-4a8d-b279-9c5f3ead7daa",
   "metadata": {},
   "outputs": [
    {
     "data": {
      "text/plain": [
       "True"
      ]
     },
     "execution_count": 85,
     "metadata": {},
     "output_type": "execute_result"
    }
   ],
   "source": [
    "# or\n",
    "a1 or b1"
   ]
  },
  {
   "cell_type": "code",
   "execution_count": 87,
   "id": "8e74726e-6fa4-4635-bf5e-1f483f9df1e9",
   "metadata": {},
   "outputs": [
    {
     "data": {
      "text/plain": [
       "True"
      ]
     },
     "execution_count": 87,
     "metadata": {},
     "output_type": "execute_result"
    }
   ],
   "source": [
    "# or\n",
    "\n",
    "a1 | b1\n"
   ]
  },
  {
   "cell_type": "code",
   "execution_count": 91,
   "id": "6f076c4e-6a2a-43da-b42f-a67270e764a9",
   "metadata": {},
   "outputs": [
    {
     "name": "stdout",
     "output_type": "stream",
     "text": [
      "Piyush\n",
      "<class 'str'>\n"
     ]
    }
   ],
   "source": [
    "#sting \n",
    "name1 = \"Piyush\"\n",
    "print(name1)\n",
    "print(type(name1))"
   ]
  },
  {
   "cell_type": "code",
   "execution_count": 10,
   "id": "c93d8576-9752-46b1-acf3-25b988c16f70",
   "metadata": {},
   "outputs": [
    {
     "ename": "NameError",
     "evalue": "name 'name1' is not defined",
     "output_type": "error",
     "traceback": [
      "\u001b[0;31m---------------------------------------------------------------------------\u001b[0m",
      "\u001b[0;31mNameError\u001b[0m                                 Traceback (most recent call last)",
      "Cell \u001b[0;32mIn[10], line 1\u001b[0m\n\u001b[0;32m----> 1\u001b[0m name1 \u001b[38;5;241m+\u001b[39m \u001b[38;5;124m\"\u001b[39m\u001b[38;5;124m Sharma\u001b[39m\u001b[38;5;124m\"\u001b[39m\n",
      "\u001b[0;31mNameError\u001b[0m: name 'name1' is not defined"
     ]
    }
   ],
   "source": [
    "name1 + \" Sharma\"\n"
   ]
  },
  {
   "cell_type": "code",
   "execution_count": 8,
   "id": "fedf273e-236e-484d-ad4c-ef0e5cb8005e",
   "metadata": {},
   "outputs": [
    {
     "ename": "NameError",
     "evalue": "name 'name1' is not defined",
     "output_type": "error",
     "traceback": [
      "\u001b[0;31m---------------------------------------------------------------------------\u001b[0m",
      "\u001b[0;31mNameError\u001b[0m                                 Traceback (most recent call last)",
      "Cell \u001b[0;32mIn[8], line 1\u001b[0m\n\u001b[0;32m----> 1\u001b[0m name1 \u001b[38;5;241m+\u001b[39m \u001b[38;5;28mstr\u001b[39m(\u001b[38;5;241m1\u001b[39m)\n",
      "\u001b[0;31mNameError\u001b[0m: name 'name1' is not defined"
     ]
    }
   ],
   "source": [
    "name1 + str(1)\n"
   ]
  },
  {
   "cell_type": "code",
   "execution_count": 101,
   "id": "4ee58612-639d-4309-a68f-eadbdcd443d4",
   "metadata": {},
   "outputs": [],
   "source": [
    "#dynamic typeing\n",
    "a=199\n",
    "a = \"Piyush\""
   ]
  },
  {
   "cell_type": "code",
   "execution_count": 103,
   "id": "45892800-85e2-473b-ae8b-ac3cac39bbd8",
   "metadata": {},
   "outputs": [
    {
     "data": {
      "text/plain": [
       "'PiyushPiyush'"
      ]
     },
     "execution_count": 103,
     "metadata": {},
     "output_type": "execute_result"
    }
   ],
   "source": [
    "a = \"Piyush\"\n",
    "a+ str(a)"
   ]
  },
  {
   "cell_type": "code",
   "execution_count": 109,
   "id": "20994518-dd9f-4d0f-bd0b-116a615a066a",
   "metadata": {},
   "outputs": [
    {
     "name": "stdout",
     "output_type": "stream",
     "text": [
      "This name is :  100\n"
     ]
    }
   ],
   "source": [
    "# String formatting\n",
    "a=100\n",
    "print(\"This name is : \", a)"
   ]
  },
  {
   "cell_type": "code",
   "execution_count": 113,
   "id": "0f0d193b-30d5-4395-bd95-a6a443a7f2dc",
   "metadata": {},
   "outputs": [
    {
     "name": "stdout",
     "output_type": "stream",
     "text": [
      "The first name is Piyush and last name is : Sharma \n"
     ]
    }
   ],
   "source": [
    "first_name = \"Piyush\"\n",
    "last_name = \"Sharma\"\n",
    "print(\"The first name is {} and last name is : {} \".format(first_name,last_name))"
   ]
  },
  {
   "cell_type": "code",
   "execution_count": 117,
   "id": "b52c373e-3f45-445f-a9e8-d850cf525553",
   "metadata": {},
   "outputs": [
    {
     "name": "stdout",
     "output_type": "stream",
     "text": [
      "The first name is Sharma and last name is : Piyush \n"
     ]
    }
   ],
   "source": [
    "print(\"The first name is {1} and last name is : {0} \".format(first_name,last_name))"
   ]
  },
  {
   "cell_type": "code",
   "execution_count": 121,
   "id": "768226f8-9723-43b2-a39c-bb55e4142264",
   "metadata": {},
   "outputs": [
    {
     "name": "stdout",
     "output_type": "stream",
     "text": [
      "The first name is Sharma and last name is Piyush \n"
     ]
    }
   ],
   "source": [
    "print(\"The first name is {a} and last name is {b} \".format(b=first_name,a=last_name))"
   ]
  },
  {
   "cell_type": "code",
   "execution_count": 125,
   "id": "a0f5b4df-44a3-4a5e-8ec2-e994a375e099",
   "metadata": {},
   "outputs": [
    {
     "name": "stdin",
     "output_type": "stream",
     "text": [
      "whaat is your name:  Piyush\n"
     ]
    },
    {
     "data": {
      "text/plain": [
       "'Piyush'"
      ]
     },
     "execution_count": 125,
     "metadata": {},
     "output_type": "execute_result"
    }
   ],
   "source": [
    "# Input type\n",
    "input(\"whaat is your name: \")"
   ]
  },
  {
   "cell_type": "code",
   "execution_count": 131,
   "id": "675d50f1-4a18-4382-b9ec-7919beef9848",
   "metadata": {},
   "outputs": [
    {
     "name": "stdin",
     "output_type": "stream",
     "text": [
      "whaat is number a :  12\n",
      "whaat is number b :  13\n"
     ]
    },
    {
     "name": "stdout",
     "output_type": "stream",
     "text": [
      "1213\n",
      "25\n"
     ]
    }
   ],
   "source": [
    "a = input(\"whaat is number a : \")\n",
    "b = input(\"whaat is number b : \")\n",
    "print(a+b)\n",
    "print(int(a)+int(b))\n"
   ]
  },
  {
   "cell_type": "code",
   "execution_count": null,
   "id": "e64ff3d1-c3f1-47c5-9133-8dc9f7a19cca",
   "metadata": {},
   "outputs": [],
   "source": []
  }
 ],
 "metadata": {
  "kernelspec": {
   "display_name": "Python 3 (ipykernel)",
   "language": "python",
   "name": "python3"
  },
  "language_info": {
   "codemirror_mode": {
    "name": "ipython",
    "version": 3
   },
   "file_extension": ".py",
   "mimetype": "text/x-python",
   "name": "python",
   "nbconvert_exporter": "python",
   "pygments_lexer": "ipython3",
   "version": "3.12.4"
  }
 },
 "nbformat": 4,
 "nbformat_minor": 5
}
