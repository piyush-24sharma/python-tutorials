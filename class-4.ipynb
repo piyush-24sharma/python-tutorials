{
 "cells": [
  {
   "cell_type": "markdown",
   "id": "a1809d8b-56ea-4b32-ac08-099bec0dc765",
   "metadata": {},
   "source": [
    "# Python basics Tutotial 3 Operators"
   ]
  },
  {
   "cell_type": "markdown",
   "id": "b7e524d8-96fd-41f5-a5f3-bbe87cd301c9",
   "metadata": {},
   "source": [
    "## Python Iperaors\n",
    "- Logical\n",
    "- Equality\n",
    "- comparision\n",
    "- mathematical"
   ]
  },
  {
   "cell_type": "markdown",
   "id": "d71cec73-9caf-42b5-bffb-8e022682821d",
   "metadata": {},
   "source": [
    "### Logical operators\n",
    "- not\n",
    "- and\n",
    "- or"
   ]
  },
  {
   "cell_type": "code",
   "execution_count": 9,
   "id": "e5053f15-769d-44cf-8bbf-9e8c193af933",
   "metadata": {},
   "outputs": [
    {
     "data": {
      "text/plain": [
       "bool"
      ]
     },
     "execution_count": 9,
     "metadata": {},
     "output_type": "execute_result"
    }
   ],
   "source": [
    "a=True\n",
    "type(a)"
   ]
  },
  {
   "cell_type": "code",
   "execution_count": 11,
   "id": "be080d65-9a63-4bfc-8c61-10026abd7ce2",
   "metadata": {},
   "outputs": [
    {
     "data": {
      "text/plain": [
       "bool"
      ]
     },
     "execution_count": 11,
     "metadata": {},
     "output_type": "execute_result"
    }
   ],
   "source": [
    "b=False\n",
    "type(b)"
   ]
  },
  {
   "cell_type": "code",
   "execution_count": 21,
   "id": "5d9bc83a-01cd-46b4-823c-7a80f33ea716",
   "metadata": {},
   "outputs": [
    {
     "data": {
      "text/plain": [
       "True"
      ]
     },
     "execution_count": 21,
     "metadata": {},
     "output_type": "execute_result"
    }
   ],
   "source": [
    "bool(1)\n"
   ]
  },
  {
   "cell_type": "code",
   "execution_count": 19,
   "id": "426a6de0-3b07-4494-9779-57ac91807e19",
   "metadata": {},
   "outputs": [
    {
     "data": {
      "text/plain": [
       "False"
      ]
     },
     "execution_count": 19,
     "metadata": {},
     "output_type": "execute_result"
    }
   ],
   "source": [
    "bool(0)"
   ]
  },
  {
   "cell_type": "code",
   "execution_count": 23,
   "id": "15187c5f-be5a-42e9-9314-91874c139c0a",
   "metadata": {},
   "outputs": [
    {
     "data": {
      "text/plain": [
       "False"
      ]
     },
     "execution_count": 23,
     "metadata": {},
     "output_type": "execute_result"
    }
   ],
   "source": [
    "not True"
   ]
  },
  {
   "cell_type": "code",
   "execution_count": null,
   "id": "36cf31b3-ef68-47e8-86ed-87b22af0497b",
   "metadata": {},
   "outputs": [],
   "source": []
  }
 ],
 "metadata": {
  "kernelspec": {
   "display_name": "Python 3 (ipykernel)",
   "language": "python",
   "name": "python3"
  },
  "language_info": {
   "codemirror_mode": {
    "name": "ipython",
    "version": 3
   },
   "file_extension": ".py",
   "mimetype": "text/x-python",
   "name": "python",
   "nbconvert_exporter": "python",
   "pygments_lexer": "ipython3",
   "version": "3.12.4"
  }
 },
 "nbformat": 4,
 "nbformat_minor": 5
}
