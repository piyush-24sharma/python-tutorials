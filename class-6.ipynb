{
 "cells": [
  {
   "cell_type": "markdown",
   "id": "3c6a530b-c285-4795-a544-cba3b47babcd",
   "metadata": {},
   "source": [
    "## List data structure"
   ]
  },
  {
   "cell_type": "code",
   "execution_count": 3,
   "id": "205541a4-6cbd-4a82-bd3b-78440348b65d",
   "metadata": {},
   "outputs": [
    {
     "data": {
      "text/plain": [
       "list"
      ]
     },
     "execution_count": 3,
     "metadata": {},
     "output_type": "execute_result"
    }
   ],
   "source": [
    "type([])"
   ]
  },
  {
   "cell_type": "code",
   "execution_count": 19,
   "id": "64dd381f-f4fe-4ead-b7ac-aa3a01f8906a",
   "metadata": {},
   "outputs": [
    {
     "name": "stdout",
     "output_type": "stream",
     "text": [
      "ttt\n",
      "[1, 2, 3, 4, 'TTT', 'ttt', '45']\n"
     ]
    }
   ],
   "source": [
    "#mutable (value of any key can be changed dynamically)\n",
    "lst = [1,2,3,4,'ht','ttt','45']\n",
    "lst[4]='TTT'\n",
    "\n",
    "print(lst[5])\n",
    "print(lst)\n",
    "\n"
   ]
  },
  {
   "cell_type": "code",
   "execution_count": 21,
   "id": "df355d32-c6bf-4cb0-abf9-3f6e75f64194",
   "metadata": {},
   "outputs": [
    {
     "name": "stdout",
     "output_type": "stream",
     "text": [
      "[1, 2, 3, 4, 5]\n"
     ]
    }
   ],
   "source": [
    "lst1=list((1,2,3,4,5))\n",
    "print(lst1)\n"
   ]
  },
  {
   "cell_type": "code",
   "execution_count": 27,
   "id": "e66db4f6-b2d7-40e0-8de4-ac4b6e060458",
   "metadata": {},
   "outputs": [
    {
     "name": "stdout",
     "output_type": "stream",
     "text": [
      "1 1 3\n",
      "2 4 6\n",
      "3 9 9\n",
      "4 16 12\n",
      "5 25 15\n"
     ]
    }
   ],
   "source": [
    "for i in lst1:\n",
    "    print(i,i**2,i+(i*2))"
   ]
  },
  {
   "cell_type": "code",
   "execution_count": 29,
   "id": "1d4cfbad-924e-4d8b-8914-3dedc8bc865b",
   "metadata": {},
   "outputs": [
    {
     "data": {
      "text/plain": [
       "5"
      ]
     },
     "execution_count": 29,
     "metadata": {},
     "output_type": "execute_result"
    }
   ],
   "source": [
    "len(lst1)"
   ]
  },
  {
   "cell_type": "code",
   "execution_count": 31,
   "id": "edac7416-194d-4bff-8f23-d2a2b3b6ef70",
   "metadata": {},
   "outputs": [
    {
     "data": {
      "text/plain": [
       "5"
      ]
     },
     "execution_count": 31,
     "metadata": {},
     "output_type": "execute_result"
    }
   ],
   "source": [
    "max(lst1)"
   ]
  },
  {
   "cell_type": "code",
   "execution_count": 33,
   "id": "07d5b09c-7ec8-483f-9284-c3b83e9850f2",
   "metadata": {},
   "outputs": [
    {
     "data": {
      "text/plain": [
       "1"
      ]
     },
     "execution_count": 33,
     "metadata": {},
     "output_type": "execute_result"
    }
   ],
   "source": [
    "min(lst1)"
   ]
  },
  {
   "cell_type": "code",
   "execution_count": 37,
   "id": "f9ecafd7-2ee5-4f60-8cad-5486a183ab9e",
   "metadata": {},
   "outputs": [
    {
     "name": "stdout",
     "output_type": "stream",
     "text": [
      "[1, 2, 3, 4, 5, 6]\n"
     ]
    }
   ],
   "source": [
    "lst1.append(6)\n",
    "print(lst1)"
   ]
  },
  {
   "cell_type": "markdown",
   "id": "6388b93b-5c8e-4813-850c-aeff9acc156e",
   "metadata": {},
   "source": [
    "## Append method"
   ]
  },
  {
   "cell_type": "code",
   "execution_count": 43,
   "id": "d0563d49-08b6-47af-a612-b2439979f1c1",
   "metadata": {},
   "outputs": [
    {
     "name": "stdout",
     "output_type": "stream",
     "text": [
      "[1, 2, 3, 4, 5, 6, [34, 455], [34, 455], [34, 455]]\n"
     ]
    },
    {
     "data": {
      "text/plain": [
       "34"
      ]
     },
     "execution_count": 43,
     "metadata": {},
     "output_type": "execute_result"
    }
   ],
   "source": [
    "lst1.append([34,455])\n",
    "print(lst1)\n",
    "lst1[6][0]"
   ]
  },
  {
   "cell_type": "markdown",
   "id": "118ecf64-fdfc-40ba-acf2-10e4fd2ea785",
   "metadata": {},
   "source": [
    "## Pick items by index range"
   ]
  },
  {
   "cell_type": "code",
   "execution_count": 47,
   "id": "45f2e50f-fedd-4884-9084-362b832bcb14",
   "metadata": {},
   "outputs": [
    {
     "data": {
      "text/plain": [
       "[3, 4, 5, 6, [34, 455], [34, 455], [34, 455]]"
      ]
     },
     "execution_count": 47,
     "metadata": {},
     "output_type": "execute_result"
    }
   ],
   "source": [
    "lst1[2:]"
   ]
  },
  {
   "cell_type": "code",
   "execution_count": 53,
   "id": "5f07613c-2d44-4e4d-81f3-70bef6583acd",
   "metadata": {},
   "outputs": [
    {
     "data": {
      "text/plain": [
       "[3, 4, 5]"
      ]
     },
     "execution_count": 53,
     "metadata": {},
     "output_type": "execute_result"
    }
   ],
   "source": [
    "## it pick till the last index passed -1 items\n",
    "lst1[2:5]"
   ]
  },
  {
   "cell_type": "code",
   "execution_count": 55,
   "id": "a3787764-6da0-44b8-89d0-8258e402dcf0",
   "metadata": {},
   "outputs": [
    {
     "data": {
      "text/plain": [
       "[1, 2, 3, 4, 5, 6, [34, 455], [34, 455], [34, 455]]"
      ]
     },
     "execution_count": 55,
     "metadata": {},
     "output_type": "execute_result"
    }
   ],
   "source": [
    "lst1"
   ]
  },
  {
   "cell_type": "markdown",
   "id": "df2a8197-92f5-40e5-8519-3e55b31db11b",
   "metadata": {},
   "source": [
    "## Inster method"
   ]
  },
  {
   "cell_type": "code",
   "execution_count": 57,
   "id": "38c06d72-683c-4545-9e8b-57b07f9b2f29",
   "metadata": {},
   "outputs": [],
   "source": [
    "lst1.insert(6,'piyush')"
   ]
  },
  {
   "cell_type": "code",
   "execution_count": 59,
   "id": "5944ada8-9d98-4468-894c-451260bb5b30",
   "metadata": {},
   "outputs": [
    {
     "data": {
      "text/plain": [
       "[1, 2, 3, 4, 5, 6, 'piyush', [34, 455], [34, 455], [34, 455]]"
      ]
     },
     "execution_count": 59,
     "metadata": {},
     "output_type": "execute_result"
    }
   ],
   "source": [
    "lst1"
   ]
  },
  {
   "cell_type": "markdown",
   "id": "09291628-9480-4160-b824-8a8d273b4702",
   "metadata": {},
   "source": [
    "## Extend method"
   ]
  },
  {
   "cell_type": "code",
   "execution_count": 79,
   "id": "c639b67a-1443-4de1-b974-0572966fcf01",
   "metadata": {},
   "outputs": [
    {
     "name": "stdout",
     "output_type": "stream",
     "text": [
      "[1, 2, 3, 4, 5, 6, 'piyus', 8, 9, 45]\n"
     ]
    }
   ],
   "source": [
    "lst1 = [1, 2, 3, 4, 5, 6, 'piyus']\n",
    "lst1.extend([8,9,45])\n",
    "print(lst1)"
   ]
  },
  {
   "cell_type": "markdown",
   "id": "1ebffb89-033b-4d59-a162-761690a3da15",
   "metadata": {},
   "source": [
    "## Various list operations"
   ]
  },
  {
   "cell_type": "code",
   "execution_count": 84,
   "id": "fde0ca76-5ddc-417c-b071-9f52076f2629",
   "metadata": {},
   "outputs": [
    {
     "data": {
      "text/plain": [
       "21"
      ]
     },
     "execution_count": 84,
     "metadata": {},
     "output_type": "execute_result"
    }
   ],
   "source": [
    "lst1 = [1, 2, 3, 4, 5, 6]\n",
    "sum(lst1)"
   ]
  },
  {
   "cell_type": "code",
   "execution_count": 88,
   "id": "7d1b747f-dce6-42a2-a3c4-29e3fde34b1d",
   "metadata": {},
   "outputs": [
    {
     "data": {
      "text/plain": [
       "[1, 2, 3, 4, 5, 6, 1, 2, 3, 4, 5, 6, 1, 2, 3, 4, 5, 6]"
      ]
     },
     "execution_count": 88,
     "metadata": {},
     "output_type": "execute_result"
    }
   ],
   "source": [
    "lst1*3"
   ]
  },
  {
   "cell_type": "markdown",
   "id": "1a468125-d296-4aac-8f59-efd37672c4a0",
   "metadata": {},
   "source": [
    "## Pop method"
   ]
  },
  {
   "cell_type": "code",
   "execution_count": 95,
   "id": "bd00e26a-457f-4600-98cc-f4a157b8886b",
   "metadata": {},
   "outputs": [
    {
     "name": "stdout",
     "output_type": "stream",
     "text": [
      "[1, 2, 3, 4]\n"
     ]
    }
   ],
   "source": [
    "lst1.pop()\n",
    "print(lst1)"
   ]
  },
  {
   "cell_type": "code",
   "execution_count": 97,
   "id": "ebb89e4f-3413-4daf-881a-b4a28a4909b2",
   "metadata": {},
   "outputs": [
    {
     "name": "stdout",
     "output_type": "stream",
     "text": [
      "[1, 2, 3]\n"
     ]
    }
   ],
   "source": [
    "lst1.pop(3)\n",
    "print(lst1)"
   ]
  },
  {
   "cell_type": "code",
   "execution_count": null,
   "id": "9a76dd90-0c4e-45d1-8a31-96642b479dc5",
   "metadata": {},
   "outputs": [],
   "source": []
  }
 ],
 "metadata": {
  "kernelspec": {
   "display_name": "Python 3 (ipykernel)",
   "language": "python",
   "name": "python3"
  },
  "language_info": {
   "codemirror_mode": {
    "name": "ipython",
    "version": 3
   },
   "file_extension": ".py",
   "mimetype": "text/x-python",
   "name": "python",
   "nbconvert_exporter": "python",
   "pygments_lexer": "ipython3",
   "version": "3.12.4"
  }
 },
 "nbformat": 4,
 "nbformat_minor": 5
}
