1+2
a=10
a+5
print(a+5)

print(a-3)

import this
