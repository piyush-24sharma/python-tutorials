{
 "cells": [
  {
   "cell_type": "markdown",
   "id": "52febc0e-80bd-4de8-b825-7032f91a0f9b",
   "metadata": {},
   "source": [
    "# Python Basic class 5 Number methods"
   ]
  },
  {
   "cell_type": "code",
   "execution_count": 8,
   "id": "13e87c1e-cf2f-4e2d-aeb5-d3508311a124",
   "metadata": {},
   "outputs": [
    {
     "data": {
      "text/plain": [
       "20"
      ]
     },
     "execution_count": 8,
     "metadata": {},
     "output_type": "execute_result"
    }
   ],
   "source": [
    "abs(-20)"
   ]
  },
  {
   "cell_type": "code",
   "execution_count": 10,
   "id": "27fa98b9-36af-4fc4-a685-1f7f82c549eb",
   "metadata": {},
   "outputs": [
    {
     "data": {
      "text/plain": [
       "34.3"
      ]
     },
     "execution_count": 10,
     "metadata": {},
     "output_type": "execute_result"
    }
   ],
   "source": [
    "abs(34.3)"
   ]
  },
  {
   "cell_type": "markdown",
   "id": "e480cf53-37c0-4a6c-b8a6-699d95df1962",
   "metadata": {},
   "source": [
    "## ceil()\n"
   ]
  },
  {
   "cell_type": "code",
   "execution_count": 27,
   "id": "e4c56abc-4d89-4445-a3a9-cd65c73b723c",
   "metadata": {},
   "outputs": [],
   "source": [
    "# ceil()\n",
    "import math\n"
   ]
  },
  {
   "cell_type": "code",
   "execution_count": 18,
   "id": "d0d7ed25-798e-47c6-9c02-2d412b97e02e",
   "metadata": {},
   "outputs": [
    {
     "data": {
      "text/plain": [
       "45"
      ]
     },
     "execution_count": 18,
     "metadata": {},
     "output_type": "execute_result"
    }
   ],
   "source": [
    "math.ceil(44.48)"
   ]
  },
  {
   "cell_type": "code",
   "execution_count": 20,
   "id": "c278ce27-178c-494d-a997-64e4c07b9d92",
   "metadata": {},
   "outputs": [
    {
     "data": {
      "text/plain": [
       "45"
      ]
     },
     "execution_count": 20,
     "metadata": {},
     "output_type": "execute_result"
    }
   ],
   "source": [
    "math.ceil(44.23)"
   ]
  },
  {
   "cell_type": "code",
   "execution_count": 22,
   "id": "a9caedca-7808-4cb4-876b-08bd2e458110",
   "metadata": {},
   "outputs": [
    {
     "data": {
      "text/plain": [
       "-344"
      ]
     },
     "execution_count": 22,
     "metadata": {},
     "output_type": "execute_result"
    }
   ],
   "source": [
    "math.ceil(-344.3)"
   ]
  },
  {
   "cell_type": "markdown",
   "id": "e8401dca-34bb-46bd-958f-a20970614a33",
   "metadata": {},
   "source": [
    "## floor"
   ]
  },
  {
   "cell_type": "code",
   "execution_count": 30,
   "id": "355f5498-0690-462f-8b69-a9adc1b59721",
   "metadata": {},
   "outputs": [
    {
     "data": {
      "text/plain": [
       "44"
      ]
     },
     "execution_count": 30,
     "metadata": {},
     "output_type": "execute_result"
    }
   ],
   "source": [
    "math.floor(44.5)"
   ]
  },
  {
   "cell_type": "code",
   "execution_count": 32,
   "id": "a85552ef-2aef-4b38-97d7-3e1723b5f1ce",
   "metadata": {},
   "outputs": [
    {
     "data": {
      "text/plain": [
       "-45"
      ]
     },
     "execution_count": 32,
     "metadata": {},
     "output_type": "execute_result"
    }
   ],
   "source": [
    "math.floor(-44.3)"
   ]
  },
  {
   "cell_type": "markdown",
   "id": "d47b30cc-159f-45d9-b38c-48cee481b1fa",
   "metadata": {},
   "source": [
    "## Exponential "
   ]
  },
  {
   "cell_type": "code",
   "execution_count": 35,
   "id": "c014bccd-44ae-4884-aab5-71202e52743b",
   "metadata": {},
   "outputs": [
    {
     "data": {
      "text/plain": [
       "7.38905609893065"
      ]
     },
     "execution_count": 35,
     "metadata": {},
     "output_type": "execute_result"
    }
   ],
   "source": [
    "math.exp(2)"
   ]
  },
  {
   "cell_type": "markdown",
   "id": "275edd14-9315-4792-ad81-4ef097673a5b",
   "metadata": {},
   "source": [
    "## fabs()"
   ]
  },
  {
   "cell_type": "code",
   "execution_count": 42,
   "id": "98a3e280-e171-4c7d-bacd-4104ceed66aa",
   "metadata": {},
   "outputs": [
    {
     "data": {
      "text/plain": [
       "23.3"
      ]
     },
     "execution_count": 42,
     "metadata": {},
     "output_type": "execute_result"
    }
   ],
   "source": [
    "math.fabs(23.3)"
   ]
  },
  {
   "cell_type": "code",
   "execution_count": 44,
   "id": "e8e5c183-f3f7-448a-bcf3-37f5720c65bb",
   "metadata": {},
   "outputs": [
    {
     "data": {
      "text/plain": [
       "10.0"
      ]
     },
     "execution_count": 44,
     "metadata": {},
     "output_type": "execute_result"
    }
   ],
   "source": [
    "math.fabs(10)"
   ]
  },
  {
   "cell_type": "markdown",
   "id": "67137605-da69-4e1a-baea-9433e9e8e122",
   "metadata": {},
   "source": [
    "# log(x)"
   ]
  },
  {
   "cell_type": "code",
   "execution_count": 47,
   "id": "94d8449c-ae5e-4510-acf1-8260dc4b086a",
   "metadata": {},
   "outputs": [
    {
     "data": {
      "text/plain": [
       "0.6931471805599453"
      ]
     },
     "execution_count": 47,
     "metadata": {},
     "output_type": "execute_result"
    }
   ],
   "source": [
    "math.log(2)"
   ]
  },
  {
   "cell_type": "code",
   "execution_count": 49,
   "id": "a74fda2e-9288-4615-89bd-73648bc64f00",
   "metadata": {},
   "outputs": [
    {
     "data": {
      "text/plain": [
       "2.501435951739211"
      ]
     },
     "execution_count": 49,
     "metadata": {},
     "output_type": "execute_result"
    }
   ],
   "source": [
    "math.log(12.2)"
   ]
  },
  {
   "cell_type": "code",
   "execution_count": 51,
   "id": "ee0cf3d1-af65-4793-83ff-7d8585c6fc68",
   "metadata": {},
   "outputs": [
    {
     "data": {
      "text/plain": [
       "2.302585092994046"
      ]
     },
     "execution_count": 51,
     "metadata": {},
     "output_type": "execute_result"
    }
   ],
   "source": [
    "math.log(10)"
   ]
  },
  {
   "cell_type": "code",
   "execution_count": 53,
   "id": "e24f3766-ed53-4cf0-9dae-ec763a135515",
   "metadata": {},
   "outputs": [
    {
     "data": {
      "text/plain": [
       "1.0"
      ]
     },
     "execution_count": 53,
     "metadata": {},
     "output_type": "execute_result"
    }
   ],
   "source": [
    "math.log10(10)"
   ]
  },
  {
   "cell_type": "markdown",
   "id": "985de490-4e70-4d5e-93b0-b68124a5070f",
   "metadata": {},
   "source": [
    "## max()"
   ]
  },
  {
   "cell_type": "code",
   "execution_count": 56,
   "id": "8687c176-7370-420d-b32e-331ace4bd8ff",
   "metadata": {},
   "outputs": [
    {
     "data": {
      "text/plain": [
       "100"
      ]
     },
     "execution_count": 56,
     "metadata": {},
     "output_type": "execute_result"
    }
   ],
   "source": [
    "max(10,20,30,40,100)"
   ]
  },
  {
   "cell_type": "code",
   "execution_count": 58,
   "id": "c8138413-a58d-4aee-a71a-a8a20905bcd8",
   "metadata": {},
   "outputs": [
    {
     "data": {
      "text/plain": [
       "100"
      ]
     },
     "execution_count": 58,
     "metadata": {},
     "output_type": "execute_result"
    }
   ],
   "source": [
    "max(10,20,30,40,100, -120,-222)"
   ]
  },
  {
   "cell_type": "code",
   "execution_count": 60,
   "id": "32de9e7f-45a9-4a55-a2ca-5fcaa1ac6fd2",
   "metadata": {},
   "outputs": [
    {
     "data": {
      "text/plain": [
       "-10"
      ]
     },
     "execution_count": 60,
     "metadata": {},
     "output_type": "execute_result"
    }
   ],
   "source": [
    "max(-10,-20,-30,-40,-100)"
   ]
  },
  {
   "cell_type": "markdown",
   "id": "6c980a82-4b5a-4d1d-845e-7707fa26e800",
   "metadata": {},
   "source": [
    "## min()"
   ]
  },
  {
   "cell_type": "code",
   "execution_count": 63,
   "id": "8b047a51-fe63-4d62-a3f5-b69347cb288c",
   "metadata": {},
   "outputs": [
    {
     "data": {
      "text/plain": [
       "10"
      ]
     },
     "execution_count": 63,
     "metadata": {},
     "output_type": "execute_result"
    }
   ],
   "source": [
    "min(10,20,30,40,100)"
   ]
  },
  {
   "cell_type": "code",
   "execution_count": 65,
   "id": "3d631574-6dd0-4789-86bf-790542091cb4",
   "metadata": {},
   "outputs": [
    {
     "data": {
      "text/plain": [
       "-100"
      ]
     },
     "execution_count": 65,
     "metadata": {},
     "output_type": "execute_result"
    }
   ],
   "source": [
    "min(-10,-20,-30,-40,-100)"
   ]
  },
  {
   "cell_type": "markdown",
   "id": "586f24ec-dd09-4cda-8959-f9f06d8715e3",
   "metadata": {},
   "source": [
    "## pow()"
   ]
  },
  {
   "cell_type": "code",
   "execution_count": 72,
   "id": "d9692506-1cc7-45b3-8783-c2689815c9d8",
   "metadata": {},
   "outputs": [
    {
     "data": {
      "text/plain": [
       "4.0"
      ]
     },
     "execution_count": 72,
     "metadata": {},
     "output_type": "execute_result"
    }
   ],
   "source": [
    "import math\n",
    "math.pow(2,2)"
   ]
  },
  {
   "cell_type": "code",
   "execution_count": 76,
   "id": "39111090-0fdb-4929-971c-82317e2209c6",
   "metadata": {},
   "outputs": [
    {
     "data": {
      "text/plain": [
       "0.0625"
      ]
     },
     "execution_count": 76,
     "metadata": {},
     "output_type": "execute_result"
    }
   ],
   "source": [
    "math.pow(-2,-4)"
   ]
  },
  {
   "cell_type": "markdown",
   "id": "7ba67bb4-792d-4a3f-9d61-2664cb69354f",
   "metadata": {},
   "source": [
    "## sqrt()"
   ]
  },
  {
   "cell_type": "code",
   "execution_count": 80,
   "id": "342516da-5031-4980-9ab4-c73a5bf4c8dc",
   "metadata": {},
   "outputs": [
    {
     "data": {
      "text/plain": [
       "2.23606797749979"
      ]
     },
     "execution_count": 80,
     "metadata": {},
     "output_type": "execute_result"
    }
   ],
   "source": [
    "math.sqrt(5)"
   ]
  },
  {
   "cell_type": "code",
   "execution_count": 85,
   "id": "4e4c437b-5677-4d85-b52f-6b3282dbd852",
   "metadata": {},
   "outputs": [
    {
     "data": {
      "text/plain": [
       "22.9128784747792"
      ]
     },
     "execution_count": 85,
     "metadata": {},
     "output_type": "execute_result"
    }
   ],
   "source": [
    "math.sqrt(525)"
   ]
  },
  {
   "cell_type": "code",
   "execution_count": 87,
   "id": "3c448104-c72c-4f67-8fb0-4a4336e5e852",
   "metadata": {},
   "outputs": [
    {
     "data": {
      "text/plain": [
       "5.0"
      ]
     },
     "execution_count": 87,
     "metadata": {},
     "output_type": "execute_result"
    }
   ],
   "source": [
    "math.sqrt(25)"
   ]
  },
  {
   "cell_type": "markdown",
   "id": "afc86569-b4df-4989-a4f8-13e159c32e25",
   "metadata": {},
   "source": [
    "## Trignomatcric "
   ]
  },
  {
   "cell_type": "code",
   "execution_count": 93,
   "id": "83110d5e-6d51-462d-ac66-4bcb62d94347",
   "metadata": {},
   "outputs": [
    {
     "data": {
      "text/plain": [
       "0.8414709848078965"
      ]
     },
     "execution_count": 93,
     "metadata": {},
     "output_type": "execute_result"
    }
   ],
   "source": [
    "math.sin(1)"
   ]
  },
  {
   "cell_type": "code",
   "execution_count": 99,
   "id": "7f305910-99a3-471c-baba-01ef5a333348",
   "metadata": {},
   "outputs": [
    {
     "data": {
      "text/plain": [
       "0.6483608274590866"
      ]
     },
     "execution_count": 99,
     "metadata": {},
     "output_type": "execute_result"
    }
   ],
   "source": [
    "math.tan(10)"
   ]
  },
  {
   "cell_type": "markdown",
   "id": "a5501131-b802-4927-8270-9dba19e92166",
   "metadata": {},
   "source": [
    "## hypot()"
   ]
  },
  {
   "cell_type": "code",
   "execution_count": 110,
   "id": "495577f9-236a-4392-8757-1b9b44c430dc",
   "metadata": {},
   "outputs": [
    {
     "data": {
      "text/plain": [
       "5.0"
      ]
     },
     "execution_count": 110,
     "metadata": {},
     "output_type": "execute_result"
    }
   ],
   "source": [
    "math.hypot(3,4)"
   ]
  },
  {
   "cell_type": "code",
   "execution_count": 112,
   "id": "d7b82701-3c43-44aa-8368-1b27af4a91e9",
   "metadata": {},
   "outputs": [
    {
     "data": {
      "text/plain": [
       "(0.0, 2.0)"
      ]
     },
     "execution_count": 112,
     "metadata": {},
     "output_type": "execute_result"
    }
   ],
   "source": [
    "math.modf(2)"
   ]
  },
  {
   "cell_type": "code",
   "execution_count": 114,
   "id": "d95140ae-0a3f-4a17-b6e5-e1efaf9b08f1",
   "metadata": {},
   "outputs": [
    {
     "data": {
      "text/plain": [
       "(0.23000000000000043, 4.0)"
      ]
     },
     "execution_count": 114,
     "metadata": {},
     "output_type": "execute_result"
    }
   ],
   "source": [
    "math.modf(4.23)"
   ]
  },
  {
   "cell_type": "code",
   "execution_count": 174,
   "id": "0a50cdce-81f6-4627-b92b-046c3af5a19a",
   "metadata": {},
   "outputs": [
    {
     "name": "stdin",
     "output_type": "stream",
     "text": [
      "Enter a number to check as prime number: 10\n"
     ]
    },
    {
     "name": "stdout",
     "output_type": "stream",
     "text": [
      "n =  10\n",
      "and i =  2\n",
      "n%i =  0\n",
      "n =  10\n",
      "and i =  3\n",
      "n =  10\n",
      "and i =  4\n",
      "n =  10\n",
      "and i =  5\n",
      "n%i =  0\n",
      "n =  10\n",
      "and i =  6\n",
      "n =  10\n",
      "and i =  7\n",
      "n =  10\n",
      "and i =  8\n",
      "n =  10\n",
      "and i =  9\n",
      "n =  10\n",
      "and i =  10\n",
      "n%i =  0\n",
      "10 is a prim number.\n"
     ]
    }
   ],
   "source": [
    "flag=0\n",
    "n = int(input(\"Enter a number to check as prime number:\"))\n",
    "\n",
    "for i in range(2,n+1):\n",
    "    print(\"n = \",n)\n",
    "    print(\"and i = \", i)\n",
    "    \n",
    "    if (n%i) == 0:\n",
    "        print(\"n%i = \", n%i)\n",
    "        flag = 1\n",
    "\n",
    "if flag == 1:\n",
    "    print(n, \"is a prim number.\")\n",
    "else:\n",
    "    print(n, \"is not a prim number.\")\n",
    "      \n",
    "   \n"
   ]
  },
  {
   "cell_type": "code",
   "execution_count": null,
   "id": "9b97fb1a-46cb-416b-9be4-a8b03dc0edee",
   "metadata": {},
   "outputs": [],
   "source": []
  }
 ],
 "metadata": {
  "kernelspec": {
   "display_name": "Python 3 (ipykernel)",
   "language": "python",
   "name": "python3"
  },
  "language_info": {
   "codemirror_mode": {
    "name": "ipython",
    "version": 3
   },
   "file_extension": ".py",
   "mimetype": "text/x-python",
   "name": "python",
   "nbconvert_exporter": "python",
   "pygments_lexer": "ipython3",
   "version": "3.12.4"
  }
 },
 "nbformat": 4,
 "nbformat_minor": 5
}
