{
 "cells": [
  {
   "cell_type": "markdown",
   "id": "145370ba-3a47-4c5e-a835-2aba52baee1f",
   "metadata": {},
   "source": [
    "# Python basics Tutotial 3 Conditional and looping statements"
   ]
  },
  {
   "cell_type": "code",
   "execution_count": null,
   "id": "fa7b948f-0eb5-465f-8935-d70bd14b9650",
   "metadata": {},
   "outputs": [],
   "source": [
    "\n",
    "# If-else statement\n",
    "\n",
    "var = float(input(\"Enter a Number: \"))\n",
    "print(var)\n",
    "\n",
    "if(var > 100):\n",
    "    print(\"This show only if it is greater than 100\")\n"
   ]
  },
  {
   "cell_type": "code",
   "execution_count": 35,
   "id": "aa2731b8-6492-4e50-8885-4ef5d0cbcc7a",
   "metadata": {},
   "outputs": [
    {
     "name": "stdin",
     "output_type": "stream",
     "text": [
      "Enter a Number:  23\n"
     ]
    },
    {
     "name": "stdout",
     "output_type": "stream",
     "text": [
      "This nuber is odd.\n"
     ]
    }
   ],
   "source": [
    "var1 = float(input(\"Enter a Number: \"))\n",
    "if(var1%2 ==0):\n",
    "    print(\"This nuber is even\")\n",
    "else: \n",
    "    print(\"This nuber is odd.\")"
   ]
  },
  {
   "cell_type": "code",
   "execution_count": 69,
   "id": "f7884219-7660-48de-9e1d-c0b8e6f86401",
   "metadata": {},
   "outputs": [
    {
     "name": "stdin",
     "output_type": "stream",
     "text": [
      "let me know how old you are?  16\n"
     ]
    },
    {
     "name": "stdout",
     "output_type": "stream",
     "text": [
      "Your are in college.\n",
      "Go boy get some softdrink!!!!!!!! :) :) \n"
     ]
    }
   ],
   "source": [
    "age = float(input(\"let me know how old you are? \"))\n",
    "\n",
    "if(age < 18):\n",
    "    if(age < 15):\n",
    "        print(\"Your are in scool buddy.\")\n",
    "    else:\n",
    "        print(\"Your are in college.\")\n",
    "    print(\"Go boy get some softdrink!!!!!!!! :) :) \")\n",
    "elif(age >= 18 and age <= 45 ):\n",
    "    print(\"Enjoy your life before 35.\")\n",
    "elif(age >=45 and age < 50): \n",
    "    print(\"Hello sir Enjoy you under 50 whyskey!!!\")\n",
    "else: \n",
    "    print(\" Hello Mr. Sr. citizen.\")"
   ]
  },
  {
   "cell_type": "code",
   "execution_count": 81,
   "id": "b801d98b-4611-4213-84c4-55506e7a2622",
   "metadata": {},
   "outputs": [
    {
     "name": "stdout",
     "output_type": "stream",
     "text": [
      "1  ^2  1  ^3    1   *i   1\n",
      "2  ^2  4  ^3    8   *i   4\n",
      "3  ^2  9  ^3    27   *i   9\n",
      "4  ^2  16  ^3    64   *i   16\n",
      "5  ^2  25  ^3    125   *i   25\n",
      "6  ^2  36  ^3    216   *i   36\n",
      "7  ^2  49  ^3    343   *i   49\n",
      "8  ^2  64  ^3    512   *i   64\n",
      "9  ^2  81  ^3    729   *i   81\n",
      "10  ^2  100  ^3    1000   *i   100\n",
      "11  ^2  121  ^3    1331   *i   121\n",
      "12  ^2  144  ^3    1728   *i   144\n",
      "13  ^2  169  ^3    2197   *i   169\n"
     ]
    }
   ],
   "source": [
    "# Loop statement\n",
    "# For loop, while loop\n",
    "\n",
    "arr = [1,2,3,4,5,6,7,8,9,10,11,12,13]\n",
    "for i in arr:\n",
    "    print(i, \" ^2 \", i**2)\n",
    "    "
   ]
  },
  {
   "cell_type": "code",
   "execution_count": 89,
   "id": "9b6426ff-6336-4040-a1ba-7839d410268c",
   "metadata": {},
   "outputs": [
    {
     "name": "stdout",
     "output_type": "stream",
     "text": [
      "Even sum is 42\n",
      "Odd sum is 7\n"
     ]
    }
   ],
   "source": [
    "arr = [1,2,3,4,5,6,7,8,9,10,11,12,13]\n",
    "odd_sum = 0\n",
    "even_sum = 0\n",
    "for i in arr:\n",
    "    if(i%2 == 0):\n",
    "        even_sum = even_sum+i\n",
    "    else:\n",
    "        odd_sum = odd_sum+1\n",
    "\n",
    "print(\"Even sum is {}\".format(even_sum))\n",
    "print(\"Odd sum is {}\".format(odd_sum))"
   ]
  },
  {
   "cell_type": "code",
   "execution_count": 5,
   "id": "990ec2df-627e-4eb2-bfd0-803c4161c234",
   "metadata": {},
   "outputs": [
    {
     "name": "stdout",
     "output_type": "stream",
     "text": [
      "Even sum is 30\n",
      "Odd sum is 25\n"
     ]
    }
   ],
   "source": [
    "# While condition.\n",
    "i = 0\n",
    "even_sum = 0\n",
    "odd_sum = 0\n",
    "\n",
    "while(i <= 10):\n",
    "    #print(i, \" \")\n",
    "    if(i%2 == 0):\n",
    "        even_sum = even_sum+i\n",
    "    else: \n",
    "        odd_sum = odd_sum+i\n",
    "    i=i+1\n",
    "# print(even_sum, odd_sum)\n",
    "\n",
    "print(\"Even sum is {}\".format(even_sum))\n",
    "print(\"Odd sum is {}\".format(odd_sum))\n"
   ]
  },
  {
   "cell_type": "code",
   "execution_count": 15,
   "id": "995bcfb0-94c1-4344-8f18-6b93405f2b21",
   "metadata": {},
   "outputs": [
    {
     "name": "stdout",
     "output_type": "stream",
     "text": [
      "0\n"
     ]
    }
   ],
   "source": [
    "# Break\n",
    "x=0\n",
    "while x<6:\n",
    "    print(x)\n",
    "    if x<5:\n",
    "        break\n",
    "    x=x+1"
   ]
  },
  {
   "cell_type": "code",
   "execution_count": 9,
   "id": "ab074e0a-8001-40f6-9736-c38869dcbc28",
   "metadata": {},
   "outputs": [
    {
     "name": "stdout",
     "output_type": "stream",
     "text": [
      "1\n",
      "2\n",
      "3\n",
      "4\n",
      "6\n",
      "7\n"
     ]
    }
   ],
   "source": [
    "# Break\n",
    "x=0\n",
    "while x<7:\n",
    "    x=x+1\n",
    "    if x==5:\n",
    "        continue\n",
    "    print(x)\n"
   ]
  },
  {
   "cell_type": "code",
   "execution_count": null,
   "id": "4db9582c-11fe-4e10-b97c-8109d558c058",
   "metadata": {},
   "outputs": [],
   "source": []
  },
  {
   "cell_type": "code",
   "execution_count": null,
   "id": "083e967c-8101-49c8-a9fa-7eb981c1943a",
   "metadata": {},
   "outputs": [],
   "source": []
  }
 ],
 "metadata": {
  "kernelspec": {
   "display_name": "Python 3 (ipykernel)",
   "language": "python",
   "name": "python3"
  },
  "language_info": {
   "codemirror_mode": {
    "name": "ipython",
    "version": 3
   },
   "file_extension": ".py",
   "mimetype": "text/x-python",
   "name": "python",
   "nbconvert_exporter": "python",
   "pygments_lexer": "ipython3",
   "version": "3.12.4"
  }
 },
 "nbformat": 4,
 "nbformat_minor": 5
}
